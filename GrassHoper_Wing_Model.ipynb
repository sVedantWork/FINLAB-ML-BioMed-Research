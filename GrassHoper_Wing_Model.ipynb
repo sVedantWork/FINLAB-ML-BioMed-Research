{
  "nbformat": 4,
  "nbformat_minor": 0,
  "metadata": {
    "colab": {
      "name": "Staples_Lab_grasshoperWing.ipynb",
      "provenance": [],
      "collapsed_sections": []
    },
    "kernelspec": {
      "name": "python3",
      "display_name": "Python 3"
    },
    "language_info": {
      "name": "python"
    }
  },
  "cells": [
    {
      "cell_type": "markdown",
      "source": [
        "# Imports"
      ],
      "metadata": {
        "id": "vmvvS8CC9EYM"
      }
    },
    {
      "cell_type": "code",
      "execution_count": 1,
      "metadata": {
        "id": "x4AtxdbsDSJg"
      },
      "outputs": [],
      "source": [
        "import tensorflow as tf\n",
        "import logging\n",
        "# only log errors\n",
        "logger = tf.get_logger()\n",
        "logger.setLevel(logging.ERROR)\n",
        "\n",
        "import numpy as np"
      ]
    },
    {
      "cell_type": "markdown",
      "source": [
        "# Get the Data"
      ],
      "metadata": {
        "id": "kig45pYM9HM1"
      }
    },
    {
      "cell_type": "code",
      "source": [
        "freq_q = np.array([0,0,1,1.1,1.2,1.3,1.5,1.7,1.8,2,2.1,2.25,2.3,2.4,2.5,2.75,2.75,2.8,2.85,2.9,3,3.1,3.2,3.25,3.4,3.55,3.6,3.7,3.75,3.8,3.95], dtype=float)\n",
        "voltage_a = np.array([2,2.2,2.4,2.6,2.8,3,3.2,3.4,3.6,3.8,4,4.2,4.4,4.6,4.8,5,5.2,5.4,5.6,5.8,6,6.2,6.4,6.6,6.8,7,7.2,7.4,7.6,7.8,8], dtype=float)\n",
        "\n",
        "for i, c in enumerate(freq_q):\n",
        "  print(\"{} Hz Frequency = {} Volt Voltage\".format(c, voltage_a[i]))"
      ],
      "metadata": {
        "colab": {
          "base_uri": "https://localhost:8080/"
        },
        "id": "sM-zdKCBDThK",
        "outputId": "fce683ea-75f9-4f3c-fd1a-b997e967e296"
      },
      "execution_count": 2,
      "outputs": [
        {
          "output_type": "stream",
          "name": "stdout",
          "text": [
            "0.0 Hz Frequency = 2.0 Volt Voltage\n",
            "0.0 Hz Frequency = 2.2 Volt Voltage\n",
            "1.0 Hz Frequency = 2.4 Volt Voltage\n",
            "1.1 Hz Frequency = 2.6 Volt Voltage\n",
            "1.2 Hz Frequency = 2.8 Volt Voltage\n",
            "1.3 Hz Frequency = 3.0 Volt Voltage\n",
            "1.5 Hz Frequency = 3.2 Volt Voltage\n",
            "1.7 Hz Frequency = 3.4 Volt Voltage\n",
            "1.8 Hz Frequency = 3.6 Volt Voltage\n",
            "2.0 Hz Frequency = 3.8 Volt Voltage\n",
            "2.1 Hz Frequency = 4.0 Volt Voltage\n",
            "2.25 Hz Frequency = 4.2 Volt Voltage\n",
            "2.3 Hz Frequency = 4.4 Volt Voltage\n",
            "2.4 Hz Frequency = 4.6 Volt Voltage\n",
            "2.5 Hz Frequency = 4.8 Volt Voltage\n",
            "2.75 Hz Frequency = 5.0 Volt Voltage\n",
            "2.75 Hz Frequency = 5.2 Volt Voltage\n",
            "2.8 Hz Frequency = 5.4 Volt Voltage\n",
            "2.85 Hz Frequency = 5.6 Volt Voltage\n",
            "2.9 Hz Frequency = 5.8 Volt Voltage\n",
            "3.0 Hz Frequency = 6.0 Volt Voltage\n",
            "3.1 Hz Frequency = 6.2 Volt Voltage\n",
            "3.2 Hz Frequency = 6.4 Volt Voltage\n",
            "3.25 Hz Frequency = 6.6 Volt Voltage\n",
            "3.4 Hz Frequency = 6.8 Volt Voltage\n",
            "3.55 Hz Frequency = 7.0 Volt Voltage\n",
            "3.6 Hz Frequency = 7.2 Volt Voltage\n",
            "3.7 Hz Frequency = 7.4 Volt Voltage\n",
            "3.75 Hz Frequency = 7.6 Volt Voltage\n",
            "3.8 Hz Frequency = 7.8 Volt Voltage\n",
            "3.95 Hz Frequency = 8.0 Volt Voltage\n"
          ]
        }
      ]
    },
    {
      "cell_type": "markdown",
      "source": [
        "# Create and Pre-Train the Model"
      ],
      "metadata": {
        "id": "yfO2UI7S9Lzm"
      }
    },
    {
      "cell_type": "code",
      "source": [
        "#units --> number of neurons in the layer. Determines the shape of the output vector.\n",
        "#          Defines how many internal variables the layer has to learn to solve the problem.\n",
        "model = tf.keras.Sequential()\n",
        "model.add(tf.keras.layers.Dense(units=64, input_shape=[1,], activation='relu', kernel_initializer='he_uniform'))\n",
        "model.add(tf.keras.layers.Dense(32, activation='relu'))\n",
        "model.add(tf.keras.layers.Dense(16, activation='relu'))\n",
        "model.add(tf.keras.layers.Dense(8, activation='relu'))\n",
        "model.add(tf.keras.layers.Dense(1))"
      ],
      "metadata": {
        "id": "-usjC645FNuf"
      },
      "execution_count": 3,
      "outputs": []
    },
    {
      "cell_type": "code",
      "source": [
        "lr_schedule = tf.keras.callbacks.LearningRateScheduler(\n",
        "    lambda epoch: 1e-5 * 10 ** (epoch / 25)\n",
        ")\n",
        "\n",
        "model.compile(\n",
        "    loss =tf.keras.losses.Huber(),\n",
        "    optimizer = tf.keras.optimizers.Adam(learning_rate= 1e-5),\n",
        "    metrics=[tf.keras.metrics.MeanAbsolutePercentageError()]\n",
        ")"
      ],
      "metadata": {
        "id": "5pt_hansypPw"
      },
      "execution_count": 4,
      "outputs": []
    },
    {
      "cell_type": "code",
      "source": [
        "tf.keras.backend.clear_session()\n",
        "history = model.fit(freq_q, voltage_a, epochs=100, callbacks = [lr_schedule], verbose=True, shuffle=True)\n",
        "print(\"Pre-Traning completed successfully\")\n",
        "model.summary()"
      ],
      "metadata": {
        "colab": {
          "base_uri": "https://localhost:8080/"
        },
        "id": "sTjSqfQ4FWE4",
        "outputId": "3dfe4c77-09b0-4ebd-c546-08f0e22a2655"
      },
      "execution_count": 5,
      "outputs": [
        {
          "output_type": "stream",
          "name": "stdout",
          "text": [
            "Epoch 1/100\n",
            "1/1 [==============================] - 2s 2s/step - loss: 4.5467 - mean_absolute_percentage_error: 100.8906 - lr: 1.0000e-05\n",
            "Epoch 2/100\n",
            "1/1 [==============================] - 0s 13ms/step - loss: 4.5455 - mean_absolute_percentage_error: 100.8688 - lr: 1.0965e-05\n",
            "Epoch 3/100\n",
            "1/1 [==============================] - 0s 17ms/step - loss: 4.5443 - mean_absolute_percentage_error: 100.8447 - lr: 1.2023e-05\n",
            "Epoch 4/100\n",
            "1/1 [==============================] - 0s 12ms/step - loss: 4.5429 - mean_absolute_percentage_error: 100.8182 - lr: 1.3183e-05\n",
            "Epoch 5/100\n",
            "1/1 [==============================] - 0s 9ms/step - loss: 4.5414 - mean_absolute_percentage_error: 100.7892 - lr: 1.4454e-05\n",
            "Epoch 6/100\n",
            "1/1 [==============================] - 0s 11ms/step - loss: 4.5398 - mean_absolute_percentage_error: 100.7574 - lr: 1.5849e-05\n",
            "Epoch 7/100\n",
            "1/1 [==============================] - 0s 8ms/step - loss: 4.5380 - mean_absolute_percentage_error: 100.7225 - lr: 1.7378e-05\n",
            "Epoch 8/100\n",
            "1/1 [==============================] - 0s 11ms/step - loss: 4.5360 - mean_absolute_percentage_error: 100.6842 - lr: 1.9055e-05\n",
            "Epoch 9/100\n",
            "1/1 [==============================] - 0s 11ms/step - loss: 4.5338 - mean_absolute_percentage_error: 100.6422 - lr: 2.0893e-05\n",
            "Epoch 10/100\n",
            "1/1 [==============================] - 0s 11ms/step - loss: 4.5314 - mean_absolute_percentage_error: 100.5962 - lr: 2.2909e-05\n",
            "Epoch 11/100\n",
            "1/1 [==============================] - 0s 20ms/step - loss: 4.5288 - mean_absolute_percentage_error: 100.5457 - lr: 2.5119e-05\n",
            "Epoch 12/100\n",
            "1/1 [==============================] - 0s 20ms/step - loss: 4.5259 - mean_absolute_percentage_error: 100.4904 - lr: 2.7542e-05\n",
            "Epoch 13/100\n",
            "1/1 [==============================] - 0s 16ms/step - loss: 4.5228 - mean_absolute_percentage_error: 100.4298 - lr: 3.0200e-05\n",
            "Epoch 14/100\n",
            "1/1 [==============================] - 0s 20ms/step - loss: 4.5193 - mean_absolute_percentage_error: 100.3633 - lr: 3.3113e-05\n",
            "Epoch 15/100\n",
            "1/1 [==============================] - 0s 17ms/step - loss: 4.5156 - mean_absolute_percentage_error: 100.2904 - lr: 3.6308e-05\n",
            "Epoch 16/100\n",
            "1/1 [==============================] - 0s 13ms/step - loss: 4.5114 - mean_absolute_percentage_error: 100.2105 - lr: 3.9811e-05\n",
            "Epoch 17/100\n",
            "1/1 [==============================] - 0s 13ms/step - loss: 4.5069 - mean_absolute_percentage_error: 100.1230 - lr: 4.3652e-05\n",
            "Epoch 18/100\n",
            "1/1 [==============================] - 0s 12ms/step - loss: 4.5020 - mean_absolute_percentage_error: 100.0281 - lr: 4.7863e-05\n",
            "Epoch 19/100\n",
            "1/1 [==============================] - 0s 11ms/step - loss: 4.4966 - mean_absolute_percentage_error: 99.9240 - lr: 5.2481e-05\n",
            "Epoch 20/100\n",
            "1/1 [==============================] - 0s 13ms/step - loss: 4.4906 - mean_absolute_percentage_error: 99.8098 - lr: 5.7544e-05\n",
            "Epoch 21/100\n",
            "1/1 [==============================] - 0s 12ms/step - loss: 4.4842 - mean_absolute_percentage_error: 99.6847 - lr: 6.3096e-05\n",
            "Epoch 22/100\n",
            "1/1 [==============================] - 0s 9ms/step - loss: 4.4770 - mean_absolute_percentage_error: 99.5475 - lr: 6.9183e-05\n",
            "Epoch 23/100\n",
            "1/1 [==============================] - 0s 16ms/step - loss: 4.4692 - mean_absolute_percentage_error: 99.3970 - lr: 7.5858e-05\n",
            "Epoch 24/100\n",
            "1/1 [==============================] - 0s 13ms/step - loss: 4.4607 - mean_absolute_percentage_error: 99.2319 - lr: 8.3176e-05\n",
            "Epoch 25/100\n",
            "1/1 [==============================] - 0s 14ms/step - loss: 4.4513 - mean_absolute_percentage_error: 99.0509 - lr: 9.1201e-05\n",
            "Epoch 26/100\n",
            "1/1 [==============================] - 0s 14ms/step - loss: 4.4410 - mean_absolute_percentage_error: 98.8524 - lr: 1.0000e-04\n",
            "Epoch 27/100\n",
            "1/1 [==============================] - 0s 15ms/step - loss: 4.4297 - mean_absolute_percentage_error: 98.6347 - lr: 1.0965e-04\n",
            "Epoch 28/100\n",
            "1/1 [==============================] - 0s 14ms/step - loss: 4.4173 - mean_absolute_percentage_error: 98.3959 - lr: 1.2023e-04\n",
            "Epoch 29/100\n",
            "1/1 [==============================] - 0s 15ms/step - loss: 4.4038 - mean_absolute_percentage_error: 98.1340 - lr: 1.3183e-04\n",
            "Epoch 30/100\n",
            "1/1 [==============================] - 0s 14ms/step - loss: 4.3920 - mean_absolute_percentage_error: 97.9103 - lr: 1.4454e-04\n",
            "Epoch 31/100\n",
            "1/1 [==============================] - 0s 14ms/step - loss: 4.3809 - mean_absolute_percentage_error: 97.6950 - lr: 1.5849e-04\n",
            "Epoch 32/100\n",
            "1/1 [==============================] - 0s 17ms/step - loss: 4.3686 - mean_absolute_percentage_error: 97.4560 - lr: 1.7378e-04\n",
            "Epoch 33/100\n",
            "1/1 [==============================] - 0s 12ms/step - loss: 4.3549 - mean_absolute_percentage_error: 97.1903 - lr: 1.9055e-04\n",
            "Epoch 34/100\n",
            "1/1 [==============================] - 0s 10ms/step - loss: 4.3397 - mean_absolute_percentage_error: 96.8968 - lr: 2.0893e-04\n",
            "Epoch 35/100\n",
            "1/1 [==============================] - 0s 9ms/step - loss: 4.3280 - mean_absolute_percentage_error: 96.6806 - lr: 2.2909e-04\n",
            "Epoch 36/100\n",
            "1/1 [==============================] - 0s 12ms/step - loss: 4.3261 - mean_absolute_percentage_error: 96.6396 - lr: 2.5119e-04\n",
            "Epoch 37/100\n",
            "1/1 [==============================] - 0s 10ms/step - loss: 4.3231 - mean_absolute_percentage_error: 96.5785 - lr: 2.7542e-04\n",
            "Epoch 38/100\n",
            "1/1 [==============================] - 0s 11ms/step - loss: 4.3191 - mean_absolute_percentage_error: 96.4970 - lr: 3.0200e-04\n",
            "Epoch 39/100\n",
            "1/1 [==============================] - 0s 15ms/step - loss: 4.3140 - mean_absolute_percentage_error: 96.3942 - lr: 3.3113e-04\n",
            "Epoch 40/100\n",
            "1/1 [==============================] - 0s 9ms/step - loss: 4.3077 - mean_absolute_percentage_error: 96.2689 - lr: 3.6308e-04\n",
            "Epoch 41/100\n",
            "1/1 [==============================] - 0s 10ms/step - loss: 4.3002 - mean_absolute_percentage_error: 96.1190 - lr: 3.9811e-04\n",
            "Epoch 42/100\n",
            "1/1 [==============================] - 0s 10ms/step - loss: 4.2913 - mean_absolute_percentage_error: 95.9425 - lr: 4.3652e-04\n",
            "Epoch 43/100\n",
            "1/1 [==============================] - 0s 10ms/step - loss: 4.2809 - mean_absolute_percentage_error: 95.7370 - lr: 4.7863e-04\n",
            "Epoch 44/100\n",
            "1/1 [==============================] - 0s 13ms/step - loss: 4.2689 - mean_absolute_percentage_error: 95.4985 - lr: 5.2481e-04\n",
            "Epoch 45/100\n",
            "1/1 [==============================] - 0s 12ms/step - loss: 4.2547 - mean_absolute_percentage_error: 95.2179 - lr: 5.7544e-04\n",
            "Epoch 46/100\n",
            "1/1 [==============================] - 0s 10ms/step - loss: 4.2383 - mean_absolute_percentage_error: 94.8944 - lr: 6.3096e-04\n",
            "Epoch 47/100\n",
            "1/1 [==============================] - 0s 10ms/step - loss: 4.2194 - mean_absolute_percentage_error: 94.5236 - lr: 6.9183e-04\n",
            "Epoch 48/100\n",
            "1/1 [==============================] - 0s 13ms/step - loss: 4.1979 - mean_absolute_percentage_error: 94.0990 - lr: 7.5858e-04\n",
            "Epoch 49/100\n",
            "1/1 [==============================] - 0s 10ms/step - loss: 4.1725 - mean_absolute_percentage_error: 93.5990 - lr: 8.3176e-04\n",
            "Epoch 50/100\n",
            "1/1 [==============================] - 0s 13ms/step - loss: 4.1433 - mean_absolute_percentage_error: 93.0263 - lr: 9.1201e-04\n",
            "Epoch 51/100\n",
            "1/1 [==============================] - 0s 11ms/step - loss: 4.1099 - mean_absolute_percentage_error: 92.3710 - lr: 0.0010\n",
            "Epoch 52/100\n",
            "1/1 [==============================] - 0s 10ms/step - loss: 4.0731 - mean_absolute_percentage_error: 91.6504 - lr: 0.0011\n",
            "Epoch 53/100\n",
            "1/1 [==============================] - 0s 11ms/step - loss: 4.0339 - mean_absolute_percentage_error: 90.8813 - lr: 0.0012\n",
            "Epoch 54/100\n",
            "1/1 [==============================] - 0s 10ms/step - loss: 3.9891 - mean_absolute_percentage_error: 90.0017 - lr: 0.0013\n",
            "Epoch 55/100\n",
            "1/1 [==============================] - 0s 13ms/step - loss: 3.9362 - mean_absolute_percentage_error: 88.9629 - lr: 0.0014\n",
            "Epoch 56/100\n",
            "1/1 [==============================] - 0s 9ms/step - loss: 3.8740 - mean_absolute_percentage_error: 87.7418 - lr: 0.0016\n",
            "Epoch 57/100\n",
            "1/1 [==============================] - 0s 10ms/step - loss: 3.7960 - mean_absolute_percentage_error: 86.1464 - lr: 0.0017\n",
            "Epoch 58/100\n",
            "1/1 [==============================] - 0s 12ms/step - loss: 3.5593 - mean_absolute_percentage_error: 81.5220 - lr: 0.0019\n",
            "Epoch 59/100\n",
            "1/1 [==============================] - 0s 21ms/step - loss: 3.2662 - mean_absolute_percentage_error: 75.8866 - lr: 0.0021\n",
            "Epoch 60/100\n",
            "1/1 [==============================] - 0s 19ms/step - loss: 2.8858 - mean_absolute_percentage_error: 68.5414 - lr: 0.0023\n",
            "Epoch 61/100\n",
            "1/1 [==============================] - 0s 9ms/step - loss: 2.3837 - mean_absolute_percentage_error: 58.8427 - lr: 0.0025\n",
            "Epoch 62/100\n",
            "1/1 [==============================] - 0s 9ms/step - loss: 1.7137 - mean_absolute_percentage_error: 45.7677 - lr: 0.0028\n",
            "Epoch 63/100\n",
            "1/1 [==============================] - 0s 10ms/step - loss: 0.5835 - mean_absolute_percentage_error: 23.1668 - lr: 0.0030\n",
            "Epoch 64/100\n",
            "1/1 [==============================] - 0s 19ms/step - loss: 0.4943 - mean_absolute_percentage_error: 21.4136 - lr: 0.0033\n",
            "Epoch 65/100\n",
            "1/1 [==============================] - 0s 11ms/step - loss: 1.0297 - mean_absolute_percentage_error: 32.1372 - lr: 0.0036\n",
            "Epoch 66/100\n",
            "1/1 [==============================] - 0s 16ms/step - loss: 0.8360 - mean_absolute_percentage_error: 28.2732 - lr: 0.0040\n",
            "Epoch 67/100\n",
            "1/1 [==============================] - 0s 12ms/step - loss: 0.1467 - mean_absolute_percentage_error: 11.5207 - lr: 0.0044\n",
            "Epoch 68/100\n",
            "1/1 [==============================] - 0s 10ms/step - loss: 0.1334 - mean_absolute_percentage_error: 10.6073 - lr: 0.0048\n",
            "Epoch 69/100\n",
            "1/1 [==============================] - 0s 10ms/step - loss: 0.1496 - mean_absolute_percentage_error: 11.3064 - lr: 0.0052\n",
            "Epoch 70/100\n",
            "1/1 [==============================] - 0s 10ms/step - loss: 0.1163 - mean_absolute_percentage_error: 9.9173 - lr: 0.0058\n",
            "Epoch 71/100\n",
            "1/1 [==============================] - 0s 10ms/step - loss: 0.0971 - mean_absolute_percentage_error: 9.0365 - lr: 0.0063\n",
            "Epoch 72/100\n",
            "1/1 [==============================] - 0s 12ms/step - loss: 0.1560 - mean_absolute_percentage_error: 12.1841 - lr: 0.0069\n",
            "Epoch 73/100\n",
            "1/1 [==============================] - 0s 11ms/step - loss: 0.1513 - mean_absolute_percentage_error: 11.9861 - lr: 0.0076\n",
            "Epoch 74/100\n",
            "1/1 [==============================] - 0s 13ms/step - loss: 0.0917 - mean_absolute_percentage_error: 8.7472 - lr: 0.0083\n",
            "Epoch 75/100\n",
            "1/1 [==============================] - 0s 13ms/step - loss: 0.1333 - mean_absolute_percentage_error: 10.5116 - lr: 0.0091\n",
            "Epoch 76/100\n",
            "1/1 [==============================] - 0s 12ms/step - loss: 0.1473 - mean_absolute_percentage_error: 10.9675 - lr: 0.0100\n",
            "Epoch 77/100\n",
            "1/1 [==============================] - 0s 16ms/step - loss: 0.0790 - mean_absolute_percentage_error: 8.2089 - lr: 0.0110\n",
            "Epoch 78/100\n",
            "1/1 [==============================] - 0s 10ms/step - loss: 0.1343 - mean_absolute_percentage_error: 11.0204 - lr: 0.0120\n",
            "Epoch 79/100\n",
            "1/1 [==============================] - 0s 10ms/step - loss: 0.0881 - mean_absolute_percentage_error: 8.7719 - lr: 0.0132\n",
            "Epoch 80/100\n",
            "1/1 [==============================] - 0s 13ms/step - loss: 0.0828 - mean_absolute_percentage_error: 7.4433 - lr: 0.0145\n",
            "Epoch 81/100\n",
            "1/1 [==============================] - 0s 14ms/step - loss: 0.1083 - mean_absolute_percentage_error: 10.4397 - lr: 0.0158\n",
            "Epoch 82/100\n",
            "1/1 [==============================] - 0s 10ms/step - loss: 0.5647 - mean_absolute_percentage_error: 21.0789 - lr: 0.0174\n",
            "Epoch 83/100\n",
            "1/1 [==============================] - 0s 13ms/step - loss: 0.0980 - mean_absolute_percentage_error: 8.0551 - lr: 0.0191\n",
            "Epoch 84/100\n",
            "1/1 [==============================] - 0s 21ms/step - loss: 0.5946 - mean_absolute_percentage_error: 20.7058 - lr: 0.0209\n",
            "Epoch 85/100\n",
            "1/1 [==============================] - 0s 9ms/step - loss: 0.2174 - mean_absolute_percentage_error: 11.8873 - lr: 0.0229\n",
            "Epoch 86/100\n",
            "1/1 [==============================] - 0s 14ms/step - loss: 0.4385 - mean_absolute_percentage_error: 16.7276 - lr: 0.0251\n",
            "Epoch 87/100\n",
            "1/1 [==============================] - 0s 8ms/step - loss: 0.4520 - mean_absolute_percentage_error: 17.2020 - lr: 0.0275\n",
            "Epoch 88/100\n",
            "1/1 [==============================] - 0s 10ms/step - loss: 0.1310 - mean_absolute_percentage_error: 9.6190 - lr: 0.0302\n",
            "Epoch 89/100\n",
            "1/1 [==============================] - 0s 8ms/step - loss: 0.3852 - mean_absolute_percentage_error: 16.7517 - lr: 0.0331\n",
            "Epoch 90/100\n",
            "1/1 [==============================] - 0s 8ms/step - loss: 0.2121 - mean_absolute_percentage_error: 11.6703 - lr: 0.0363\n",
            "Epoch 91/100\n",
            "1/1 [==============================] - 0s 8ms/step - loss: 0.2976 - mean_absolute_percentage_error: 13.7336 - lr: 0.0398\n",
            "Epoch 92/100\n",
            "1/1 [==============================] - 0s 11ms/step - loss: 0.1355 - mean_absolute_percentage_error: 9.1416 - lr: 0.0437\n",
            "Epoch 93/100\n",
            "1/1 [==============================] - 0s 18ms/step - loss: 0.0514 - mean_absolute_percentage_error: 5.8368 - lr: 0.0479\n",
            "Epoch 94/100\n",
            "1/1 [==============================] - 0s 16ms/step - loss: 0.5150 - mean_absolute_percentage_error: 18.7915 - lr: 0.0525\n",
            "Epoch 95/100\n",
            "1/1 [==============================] - 0s 17ms/step - loss: 1.0350 - mean_absolute_percentage_error: 29.3904 - lr: 0.0575\n",
            "Epoch 96/100\n",
            "1/1 [==============================] - 0s 15ms/step - loss: 0.0396 - mean_absolute_percentage_error: 5.3868 - lr: 0.0631\n",
            "Epoch 97/100\n",
            "1/1 [==============================] - 0s 19ms/step - loss: 0.4848 - mean_absolute_percentage_error: 18.2406 - lr: 0.0692\n",
            "Epoch 98/100\n",
            "1/1 [==============================] - 0s 13ms/step - loss: 0.0226 - mean_absolute_percentage_error: 4.1049 - lr: 0.0759\n",
            "Epoch 99/100\n",
            "1/1 [==============================] - 0s 11ms/step - loss: 0.3875 - mean_absolute_percentage_error: 16.2175 - lr: 0.0832\n",
            "Epoch 100/100\n",
            "1/1 [==============================] - 0s 11ms/step - loss: 0.6985 - mean_absolute_percentage_error: 22.4067 - lr: 0.0912\n",
            "Pre-Traning completed successfully\n",
            "Model: \"sequential\"\n",
            "_________________________________________________________________\n",
            " Layer (type)                Output Shape              Param #   \n",
            "=================================================================\n",
            " dense (Dense)               (None, 64)                128       \n",
            "                                                                 \n",
            " dense_1 (Dense)             (None, 32)                2080      \n",
            "                                                                 \n",
            " dense_2 (Dense)             (None, 16)                528       \n",
            "                                                                 \n",
            " dense_3 (Dense)             (None, 8)                 136       \n",
            "                                                                 \n",
            " dense_4 (Dense)             (None, 1)                 9         \n",
            "                                                                 \n",
            "=================================================================\n",
            "Total params: 2,881\n",
            "Trainable params: 2,881\n",
            "Non-trainable params: 0\n",
            "_________________________________________________________________\n"
          ]
        }
      ]
    },
    {
      "cell_type": "code",
      "source": [
        "import matplotlib.pyplot as plt\n",
        "plt.xlabel(\"Learning Rate\")\n",
        "plt.ylabel(\"MAPE\") #Lower MAPE value better the model performs\n",
        "plt.semilogx(history.history[\"lr\"], history.history[\"mean_absolute_percentage_error\"])"
      ],
      "metadata": {
        "colab": {
          "base_uri": "https://localhost:8080/",
          "height": 301
        },
        "id": "xgGkeuVyzliE",
        "outputId": "f3226a05-20d1-425d-b8cf-46b669ed3fc9"
      },
      "execution_count": 6,
      "outputs": [
        {
          "output_type": "execute_result",
          "data": {
            "text/plain": [
              "[<matplotlib.lines.Line2D at 0x7f215908d790>]"
            ]
          },
          "metadata": {},
          "execution_count": 6
        },
        {
          "output_type": "display_data",
          "data": {
            "text/plain": [
              "<Figure size 432x288 with 1 Axes>"
            ],
            "image/png": "[encoded data removed]"
          },
          "metadata": {
            "needs_background": "light"
          }
        }
      ]
    },
    {
      "cell_type": "code",
      "source": [
        "import matplotlib.pyplot as plt\n",
        "plt.xlabel('Epoch Number')\n",
        "plt.ylabel('Loss Magnitude')\n",
        "plt.plot(history.history['loss'])"
      ],
      "metadata": {
        "id": "0FuVDDcTFd8L",
        "colab": {
          "base_uri": "https://localhost:8080/",
          "height": 297
        },
        "outputId": "09f1048f-2dff-4039-d459-c1cb13587818"
      },
      "execution_count": 7,
      "outputs": [
        {
          "output_type": "execute_result",
          "data": {
            "text/plain": [
              "[<matplotlib.lines.Line2D at 0x7f21589c0790>]"
            ]
          },
          "metadata": {},
          "execution_count": 7
        },
        {
          "output_type": "display_data",
          "data": {
            "text/plain": [
              "<Figure size 432x288 with 1 Axes>"
            ],
            "image/png": "[encoded data removed]"
          },
          "metadata": {
            "needs_background": "light"
          }
        }
      ]
    },
    {
      "cell_type": "markdown",
      "source": [
        "# Re-create model based on optimized values from pre-training"
      ],
      "metadata": {
        "id": "ShDHpuQS9SWc"
      }
    },
    {
      "cell_type": "code",
      "source": [
        "model = tf.keras.Sequential()\n",
        "model.add(tf.keras.layers.Dense(units=64, input_shape=[1,], activation='relu', kernel_initializer='he_uniform'))\n",
        "model.add(tf.keras.layers.Dense(32, activation='relu'))\n",
        "model.add(tf.keras.layers.Dense(16, activation='relu'))\n",
        "model.add(tf.keras.layers.Dense(8, activation='relu'))\n",
        "model.add(tf.keras.layers.Dense(1))"
      ],
      "metadata": {
        "id": "wsXNJl3c1lIm"
      },
      "execution_count": 8,
      "outputs": []
    },
    {
      "cell_type": "code",
      "source": [
        "model.compile(optimizer=tf.keras.optimizers.Adam(0.0759),\n",
        "              loss=tf.keras.losses.MeanSquaredError(),\n",
        "              metrics=[tf.keras.metrics.MeanAbsolutePercentageError()])"
      ],
      "metadata": {
        "id": "aTgE9FjCFSDY"
      },
      "execution_count": 10,
      "outputs": []
    },
    {
      "cell_type": "code",
      "source": [
        "tf.keras.backend.clear_session()\n",
        "history = model.fit(freq_q, voltage_a, epochs=62, verbose=True, shuffle=False)\n",
        "print(\"Traning completed successfully\")"
      ],
      "metadata": {
        "colab": {
          "base_uri": "https://localhost:8080/"
        },
        "id": "vMgbYj-I1vUA",
        "outputId": "b51127d7-1109-4773-efe3-4154f828e2b4"
      },
      "execution_count": 11,
      "outputs": [
        {
          "output_type": "stream",
          "name": "stdout",
          "text": [
            "Epoch 1/62\n",
            "1/1 [==============================] - 1s 593ms/step - loss: 27.6337 - mean_absolute_percentage_error: 99.0561\n",
            "Epoch 2/62\n",
            "1/1 [==============================] - 0s 18ms/step - loss: 153.7469 - mean_absolute_percentage_error: 222.6185\n",
            "Epoch 3/62\n",
            "1/1 [==============================] - 0s 23ms/step - loss: 3.6498 - mean_absolute_percentage_error: 37.9070\n",
            "Epoch 4/62\n",
            "1/1 [==============================] - 0s 19ms/step - loss: 1.9413 - mean_absolute_percentage_error: 27.7894\n",
            "Epoch 5/62\n",
            "1/1 [==============================] - 0s 10ms/step - loss: 9.4638 - mean_absolute_percentage_error: 58.5845\n",
            "Epoch 6/62\n",
            "1/1 [==============================] - 0s 18ms/step - loss: 4.0764 - mean_absolute_percentage_error: 40.1405\n",
            "Epoch 7/62\n",
            "1/1 [==============================] - 0s 12ms/step - loss: 8.2470 - mean_absolute_percentage_error: 56.0384\n",
            "Epoch 8/62\n",
            "1/1 [==============================] - 0s 18ms/step - loss: 5.8863 - mean_absolute_percentage_error: 48.1791\n",
            "Epoch 9/62\n",
            "1/1 [==============================] - 0s 13ms/step - loss: 1.5516 - mean_absolute_percentage_error: 26.3982\n",
            "Epoch 10/62\n",
            "1/1 [==============================] - 0s 20ms/step - loss: 0.6081 - mean_absolute_percentage_error: 16.3165\n",
            "Epoch 11/62\n",
            "1/1 [==============================] - 0s 8ms/step - loss: 3.3415 - mean_absolute_percentage_error: 34.3954\n",
            "Epoch 12/62\n",
            "1/1 [==============================] - 0s 10ms/step - loss: 1.7303 - mean_absolute_percentage_error: 24.9666\n",
            "Epoch 13/62\n",
            "1/1 [==============================] - 0s 9ms/step - loss: 0.2256 - mean_absolute_percentage_error: 9.4755\n",
            "Epoch 14/62\n",
            "1/1 [==============================] - 0s 10ms/step - loss: 1.2295 - mean_absolute_percentage_error: 23.9629\n",
            "Epoch 15/62\n",
            "1/1 [==============================] - 0s 10ms/step - loss: 2.1925 - mean_absolute_percentage_error: 30.8973\n",
            "Epoch 16/62\n",
            "1/1 [==============================] - 0s 10ms/step - loss: 1.8814 - mean_absolute_percentage_error: 28.7820\n",
            "Epoch 17/62\n",
            "1/1 [==============================] - 0s 11ms/step - loss: 0.7604 - mean_absolute_percentage_error: 19.0541\n",
            "Epoch 18/62\n",
            "1/1 [==============================] - 0s 11ms/step - loss: 0.2042 - mean_absolute_percentage_error: 9.2471\n",
            "Epoch 19/62\n",
            "1/1 [==============================] - 0s 12ms/step - loss: 0.9752 - mean_absolute_percentage_error: 19.2271\n",
            "Epoch 20/62\n",
            "1/1 [==============================] - 0s 21ms/step - loss: 1.4006 - mean_absolute_percentage_error: 22.4893\n",
            "Epoch 21/62\n",
            "1/1 [==============================] - 0s 22ms/step - loss: 0.5944 - mean_absolute_percentage_error: 15.8210\n",
            "Epoch 22/62\n",
            "1/1 [==============================] - 0s 17ms/step - loss: 0.1838 - mean_absolute_percentage_error: 8.7593\n",
            "Epoch 23/62\n",
            "1/1 [==============================] - 0s 12ms/step - loss: 0.5734 - mean_absolute_percentage_error: 16.3346\n",
            "Epoch 24/62\n",
            "1/1 [==============================] - 0s 20ms/step - loss: 0.9319 - mean_absolute_percentage_error: 20.4624\n",
            "Epoch 25/62\n",
            "1/1 [==============================] - 0s 20ms/step - loss: 0.7769 - mean_absolute_percentage_error: 18.7361\n",
            "Epoch 26/62\n",
            "1/1 [==============================] - 0s 19ms/step - loss: 0.3315 - mean_absolute_percentage_error: 12.1635\n",
            "Epoch 27/62\n",
            "1/1 [==============================] - 0s 19ms/step - loss: 0.1717 - mean_absolute_percentage_error: 8.6057\n",
            "Epoch 28/62\n",
            "1/1 [==============================] - 0s 17ms/step - loss: 0.4764 - mean_absolute_percentage_error: 14.1741\n",
            "Epoch 29/62\n",
            "1/1 [==============================] - 0s 18ms/step - loss: 0.6252 - mean_absolute_percentage_error: 15.6846\n",
            "Epoch 30/62\n",
            "1/1 [==============================] - 0s 18ms/step - loss: 0.3327 - mean_absolute_percentage_error: 12.1901\n",
            "Epoch 31/62\n",
            "1/1 [==============================] - 0s 18ms/step - loss: 0.1457 - mean_absolute_percentage_error: 7.7417\n",
            "Epoch 32/62\n",
            "1/1 [==============================] - 0s 28ms/step - loss: 0.2839 - mean_absolute_percentage_error: 10.9336\n",
            "Epoch 33/62\n",
            "1/1 [==============================] - 0s 16ms/step - loss: 0.4377 - mean_absolute_percentage_error: 13.7123\n",
            "Epoch 34/62\n",
            "1/1 [==============================] - 0s 27ms/step - loss: 0.3729 - mean_absolute_percentage_error: 12.5421\n",
            "Epoch 35/62\n",
            "1/1 [==============================] - 0s 30ms/step - loss: 0.1889 - mean_absolute_percentage_error: 8.7101\n",
            "Epoch 36/62\n",
            "1/1 [==============================] - 0s 33ms/step - loss: 0.1429 - mean_absolute_percentage_error: 7.7909\n",
            "Epoch 37/62\n",
            "1/1 [==============================] - 0s 16ms/step - loss: 0.2718 - mean_absolute_percentage_error: 10.9561\n",
            "Epoch 38/62\n",
            "1/1 [==============================] - 0s 15ms/step - loss: 0.3124 - mean_absolute_percentage_error: 11.5790\n",
            "Epoch 39/62\n",
            "1/1 [==============================] - 0s 13ms/step - loss: 0.1883 - mean_absolute_percentage_error: 9.1728\n",
            "Epoch 40/62\n",
            "1/1 [==============================] - 0s 23ms/step - loss: 0.1229 - mean_absolute_percentage_error: 7.1902\n",
            "Epoch 41/62\n",
            "1/1 [==============================] - 0s 23ms/step - loss: 0.1885 - mean_absolute_percentage_error: 8.4938\n",
            "Epoch 42/62\n",
            "1/1 [==============================] - 0s 21ms/step - loss: 0.2422 - mean_absolute_percentage_error: 9.5976\n",
            "Epoch 43/62\n",
            "1/1 [==============================] - 0s 21ms/step - loss: 0.1950 - mean_absolute_percentage_error: 8.5577\n",
            "Epoch 44/62\n",
            "1/1 [==============================] - 0s 22ms/step - loss: 0.1217 - mean_absolute_percentage_error: 7.1364\n",
            "Epoch 45/62\n",
            "1/1 [==============================] - 0s 25ms/step - loss: 0.1303 - mean_absolute_percentage_error: 7.3753\n",
            "Epoch 46/62\n",
            "1/1 [==============================] - 0s 10ms/step - loss: 0.1849 - mean_absolute_percentage_error: 8.9544\n",
            "Epoch 47/62\n",
            "1/1 [==============================] - 0s 9ms/step - loss: 0.1726 - mean_absolute_percentage_error: 8.6298\n",
            "Epoch 48/62\n",
            "1/1 [==============================] - 0s 15ms/step - loss: 0.1172 - mean_absolute_percentage_error: 6.9314\n",
            "Epoch 49/62\n",
            "1/1 [==============================] - 0s 14ms/step - loss: 0.1126 - mean_absolute_percentage_error: 6.8598\n",
            "Epoch 50/62\n",
            "1/1 [==============================] - 0s 17ms/step - loss: 0.1472 - mean_absolute_percentage_error: 7.3914\n",
            "Epoch 51/62\n",
            "1/1 [==============================] - 0s 9ms/step - loss: 0.1503 - mean_absolute_percentage_error: 7.4041\n",
            "Epoch 52/62\n",
            "1/1 [==============================] - 0s 10ms/step - loss: 0.1161 - mean_absolute_percentage_error: 6.8470\n",
            "Epoch 53/62\n",
            "1/1 [==============================] - 0s 9ms/step - loss: 0.1001 - mean_absolute_percentage_error: 6.3561\n",
            "Epoch 54/62\n",
            "1/1 [==============================] - 0s 18ms/step - loss: 0.1211 - mean_absolute_percentage_error: 7.0369\n",
            "Epoch 55/62\n",
            "1/1 [==============================] - 0s 13ms/step - loss: 0.1302 - mean_absolute_percentage_error: 7.2873\n",
            "Epoch 56/62\n",
            "1/1 [==============================] - 0s 13ms/step - loss: 0.1074 - mean_absolute_percentage_error: 6.5484\n",
            "Epoch 57/62\n",
            "1/1 [==============================] - 0s 20ms/step - loss: 0.0940 - mean_absolute_percentage_error: 6.1729\n",
            "Epoch 58/62\n",
            "1/1 [==============================] - 0s 10ms/step - loss: 0.1062 - mean_absolute_percentage_error: 6.4073\n",
            "Epoch 59/62\n",
            "1/1 [==============================] - 0s 10ms/step - loss: 0.1134 - mean_absolute_percentage_error: 6.4360\n",
            "Epoch 60/62\n",
            "1/1 [==============================] - 0s 8ms/step - loss: 0.0999 - mean_absolute_percentage_error: 6.1629\n",
            "Epoch 61/62\n",
            "1/1 [==============================] - 0s 8ms/step - loss: 0.0883 - mean_absolute_percentage_error: 5.8181\n",
            "Epoch 62/62\n",
            "1/1 [==============================] - 0s 11ms/step - loss: 0.0949 - mean_absolute_percentage_error: 6.0507\n",
            "Traning completed successfully\n"
          ]
        }
      ]
    },
    {
      "cell_type": "markdown",
      "source": [
        "# Evaluate Model Results"
      ],
      "metadata": {
        "id": "nn5lZa2z9dud"
      }
    },
    {
      "cell_type": "code",
      "source": [
        "print(model.evaluate(freq_q, voltage_a))"
      ],
      "metadata": {
        "id": "3p_G-lI8Fyz3",
        "colab": {
          "base_uri": "https://localhost:8080/"
        },
        "outputId": "ec1476f4-7534-406a-a62d-7c55317f1c9f"
      },
      "execution_count": 21,
      "outputs": [
        {
          "output_type": "stream",
          "name": "stdout",
          "text": [
            "1/1 [==============================] - 0s 22ms/step - loss: 0.1010 - mean_absolute_percentage_error: 6.3627\n",
            "[0.10102028399705887, 6.362700939178467]\n"
          ]
        }
      ]
    },
    {
      "cell_type": "code",
      "source": [
        "model.save(\"Best_Yet\")"
      ],
      "metadata": {
        "id": "z7lCmkOKJMlR"
      },
      "execution_count": 13,
      "outputs": []
    }
  ]
}